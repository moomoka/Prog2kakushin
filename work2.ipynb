{
  "nbformat": 4,
  "nbformat_minor": 0,
  "metadata": {
    "colab": {
      "provenance": [],
      "authorship_tag": "ABX9TyPs3RsNJxsR6Jk7xIHSaLFO",
      "include_colab_link": true
    },
    "kernelspec": {
      "name": "python3",
      "display_name": "Python 3"
    },
    "language_info": {
      "name": "python"
    }
  },
  "cells": [
    {
      "cell_type": "markdown",
      "metadata": {
        "id": "view-in-github",
        "colab_type": "text"
      },
      "source": [
        "<a href=\"https://colab.research.google.com/github/moomoka/Prog2kakushin/blob/main/work2.ipynb\" target=\"_parent\"><img src=\"https://colab.research.google.com/assets/colab-badge.svg\" alt=\"Open In Colab\"/></a>"
      ]
    },
    {
      "cell_type": "markdown",
      "source": [
        "numpyの整数乱数を返す関数を用いて、0=グー、1=パー、2＝チョキとして、じゃんけんで勝った人が進むことができる、’グリコ’（グー＝グリコ、パー＝パイナップル、チョキ＝チョコレート）を作成する。"
      ],
      "metadata": {
        "id": "WNR1KdD87DtZ"
      }
    },
    {
      "cell_type": "markdown",
      "source": [
        "# グリコのルール\n",
        "* じゃんけんをして勝った人のみが進むことができる\n",
        "* 負けた人はその場で留まる\n",
        "* グーで勝った場合：3歩(グリコ）進む\n",
        "* チョキで勝った場合：6歩(チョコレート）進む\n",
        "* パーで勝った場合：6歩（パイナップル）進む\n",
        "* 0,2,5以外の整数が生成された場合やあいこの場合はやり直す\n",
        "* スタートからゴールまでの長さは20歩とする"
      ],
      "metadata": {
        "id": "hUqxPo8Ine-H"
      }
    },
    {
      "cell_type": "markdown",
      "source": [
        "# Numpyライブラリをインポート"
      ],
      "metadata": {
        "id": "8Ur2VZdmleRa"
      }
    },
    {
      "cell_type": "code",
      "source": [
        "import numpy as np"
      ],
      "metadata": {
        "id": "qH3AufrYleA4"
      },
      "execution_count": 4,
      "outputs": []
    },
    {
      "cell_type": "markdown",
      "source": [
        "プログラムを簡易にするために、pandasを用いてじゃんけんの手の出し方、進む歩数、整数を一つの表にまとめる。"
      ],
      "metadata": {
        "id": "mvgJNAJfsSme"
      }
    },
    {
      "cell_type": "code",
      "source": [
        "from matplotlib import pyplot as plt\n",
        "import pandas as pd\n",
        "data=pd.DataFrame({\n",
        "    '出し方':['グー','パー','チョキ'],\n",
        "    '歩数':[3,6,6],\n",
        "    '整数':[0,1,2]\n",
        "})\n",
        "data"
      ],
      "metadata": {
        "colab": {
          "base_uri": "https://localhost:8080/",
          "height": 143
        },
        "id": "wOhc91FI4cwA",
        "outputId": "314e2c02-3b3d-4c1d-d806-d01785e40020"
      },
      "execution_count": 1,
      "outputs": [
        {
          "output_type": "execute_result",
          "data": {
            "text/plain": [
              "   出し方  歩数  整数\n",
              "0   グー   3   0\n",
              "1   パー   6   1\n",
              "2  チョキ   6   2"
            ],
            "text/html": [
              "\n",
              "  <div id=\"df-8b323706-609b-49ee-b377-a779570163ff\">\n",
              "    <div class=\"colab-df-container\">\n",
              "      <div>\n",
              "<style scoped>\n",
              "    .dataframe tbody tr th:only-of-type {\n",
              "        vertical-align: middle;\n",
              "    }\n",
              "\n",
              "    .dataframe tbody tr th {\n",
              "        vertical-align: top;\n",
              "    }\n",
              "\n",
              "    .dataframe thead th {\n",
              "        text-align: right;\n",
              "    }\n",
              "</style>\n",
              "<table border=\"1\" class=\"dataframe\">\n",
              "  <thead>\n",
              "    <tr style=\"text-align: right;\">\n",
              "      <th></th>\n",
              "      <th>出し方</th>\n",
              "      <th>歩数</th>\n",
              "      <th>整数</th>\n",
              "    </tr>\n",
              "  </thead>\n",
              "  <tbody>\n",
              "    <tr>\n",
              "      <th>0</th>\n",
              "      <td>グー</td>\n",
              "      <td>3</td>\n",
              "      <td>0</td>\n",
              "    </tr>\n",
              "    <tr>\n",
              "      <th>1</th>\n",
              "      <td>パー</td>\n",
              "      <td>6</td>\n",
              "      <td>1</td>\n",
              "    </tr>\n",
              "    <tr>\n",
              "      <th>2</th>\n",
              "      <td>チョキ</td>\n",
              "      <td>6</td>\n",
              "      <td>2</td>\n",
              "    </tr>\n",
              "  </tbody>\n",
              "</table>\n",
              "</div>\n",
              "      <button class=\"colab-df-convert\" onclick=\"convertToInteractive('df-8b323706-609b-49ee-b377-a779570163ff')\"\n",
              "              title=\"Convert this dataframe to an interactive table.\"\n",
              "              style=\"display:none;\">\n",
              "        \n",
              "  <svg xmlns=\"http://www.w3.org/2000/svg\" height=\"24px\"viewBox=\"0 0 24 24\"\n",
              "       width=\"24px\">\n",
              "    <path d=\"M0 0h24v24H0V0z\" fill=\"none\"/>\n",
              "    <path d=\"M18.56 5.44l.94 2.06.94-2.06 2.06-.94-2.06-.94-.94-2.06-.94 2.06-2.06.94zm-11 1L8.5 8.5l.94-2.06 2.06-.94-2.06-.94L8.5 2.5l-.94 2.06-2.06.94zm10 10l.94 2.06.94-2.06 2.06-.94-2.06-.94-.94-2.06-.94 2.06-2.06.94z\"/><path d=\"M17.41 7.96l-1.37-1.37c-.4-.4-.92-.59-1.43-.59-.52 0-1.04.2-1.43.59L10.3 9.45l-7.72 7.72c-.78.78-.78 2.05 0 2.83L4 21.41c.39.39.9.59 1.41.59.51 0 1.02-.2 1.41-.59l7.78-7.78 2.81-2.81c.8-.78.8-2.07 0-2.86zM5.41 20L4 18.59l7.72-7.72 1.47 1.35L5.41 20z\"/>\n",
              "  </svg>\n",
              "      </button>\n",
              "      \n",
              "  <style>\n",
              "    .colab-df-container {\n",
              "      display:flex;\n",
              "      flex-wrap:wrap;\n",
              "      gap: 12px;\n",
              "    }\n",
              "\n",
              "    .colab-df-convert {\n",
              "      background-color: #E8F0FE;\n",
              "      border: none;\n",
              "      border-radius: 50%;\n",
              "      cursor: pointer;\n",
              "      display: none;\n",
              "      fill: #1967D2;\n",
              "      height: 32px;\n",
              "      padding: 0 0 0 0;\n",
              "      width: 32px;\n",
              "    }\n",
              "\n",
              "    .colab-df-convert:hover {\n",
              "      background-color: #E2EBFA;\n",
              "      box-shadow: 0px 1px 2px rgba(60, 64, 67, 0.3), 0px 1px 3px 1px rgba(60, 64, 67, 0.15);\n",
              "      fill: #174EA6;\n",
              "    }\n",
              "\n",
              "    [theme=dark] .colab-df-convert {\n",
              "      background-color: #3B4455;\n",
              "      fill: #D2E3FC;\n",
              "    }\n",
              "\n",
              "    [theme=dark] .colab-df-convert:hover {\n",
              "      background-color: #434B5C;\n",
              "      box-shadow: 0px 1px 3px 1px rgba(0, 0, 0, 0.15);\n",
              "      filter: drop-shadow(0px 1px 2px rgba(0, 0, 0, 0.3));\n",
              "      fill: #FFFFFF;\n",
              "    }\n",
              "  </style>\n",
              "\n",
              "      <script>\n",
              "        const buttonEl =\n",
              "          document.querySelector('#df-8b323706-609b-49ee-b377-a779570163ff button.colab-df-convert');\n",
              "        buttonEl.style.display =\n",
              "          google.colab.kernel.accessAllowed ? 'block' : 'none';\n",
              "\n",
              "        async function convertToInteractive(key) {\n",
              "          const element = document.querySelector('#df-8b323706-609b-49ee-b377-a779570163ff');\n",
              "          const dataTable =\n",
              "            await google.colab.kernel.invokeFunction('convertToInteractive',\n",
              "                                                     [key], {});\n",
              "          if (!dataTable) return;\n",
              "\n",
              "          const docLinkHtml = 'Like what you see? Visit the ' +\n",
              "            '<a target=\"_blank\" href=https://colab.research.google.com/notebooks/data_table.ipynb>data table notebook</a>'\n",
              "            + ' to learn more about interactive tables.';\n",
              "          element.innerHTML = '';\n",
              "          dataTable['output_type'] = 'display_data';\n",
              "          await google.colab.output.renderOutput(dataTable, element);\n",
              "          const docLink = document.createElement('div');\n",
              "          docLink.innerHTML = docLinkHtml;\n",
              "          element.appendChild(docLink);\n",
              "        }\n",
              "      </script>\n",
              "    </div>\n",
              "  </div>\n",
              "  "
            ]
          },
          "metadata": {},
          "execution_count": 1
        }
      ]
    },
    {
      "cell_type": "markdown",
      "source": [
        "# 整数乱数（範囲0～2)の生成\n",
        "整数の乱数を返すrandint()関数を使用する"
      ],
      "metadata": {
        "id": "jLF0lkcWgLlr"
      }
    },
    {
      "cell_type": "code",
      "execution_count": null,
      "metadata": {
        "id": "Qc3I6yRtz9Kg",
        "colab": {
          "base_uri": "https://localhost:8080/"
        },
        "outputId": "43ca95f5-19a9-4d54-b29d-ff4a7748c24f"
      },
      "outputs": [
        {
          "output_type": "stream",
          "name": "stdout",
          "text": [
            "1\n"
          ]
        }
      ],
      "source": [
        "n=np.random.randint(0,3) #0以上6未満の範囲で整数を一つ生成する\n",
        "print(n)"
      ]
    },
    {
      "cell_type": "markdown",
      "source": [
        "#二人で対決する場合\n",
        "AさんとBさんの2人で対決する場合を考える\n",
        "\n",
        "次のことに注意する\n",
        "*   グーで勝つ：差は2\n",
        "*   チョキで勝つ：差は１\n",
        "*  パーで勝つ:差は１\n",
        "\n",
        "\n"
      ],
      "metadata": {
        "id": "X8F3dkn3maff"
      }
    },
    {
      "cell_type": "code",
      "source": [
        "from pandas.io.formats.style_render import BaseFormatter\n",
        "A=0 #Aさんがスタート地点から何歩進んだかを表す\n",
        "B=0 #Bさんがスタート地点から何歩進んだかを表す\n",
        "while A<20 and B<20:\n",
        "  print('・Aさん:'+str(A)) \n",
        "  print('・Bさん:'+str(B))\n",
        "  print('じゃんけんぽん')\n",
        "  a=np.random.randint(0,3)\n",
        "  b=np.random.randint(0,3)\n",
        "  if a-b==-2 or a-b==1:\n",
        "    print('Aさん：'+data['出し方'][a])\n",
        "    print('Bさん：'+data['出し方'][b])\n",
        "    print('Aさんが'+str(data['歩数'][a])+'歩進む')\n",
        "    A+=int(data['歩数'][a])\n",
        "  elif b-a==-2 or b-a==1:\n",
        "    print('Aさん：'+data['出し方'][a])\n",
        "    print('Bさん：'+data['出し方'][b])\n",
        "    print('Bさんが'+str(data['歩数'][b])+'歩進む')\n",
        "    B+=int(data['歩数'][b])\n",
        " \n",
        "  else:\n",
        "    print('Aさん：'+data['出し方'][a])\n",
        "    print('Bさん：'+data['出し方'][b])\n",
        "    print('あいこ')\n",
        "    continue\n",
        "        \n",
        "if A>=20 and A>B:\n",
        "  print('Aさんの勝ち')\n",
        "elif B>=20 and B>A:\n",
        "  print('Bさんの勝ち')\n",
        "    "
      ],
      "metadata": {
        "colab": {
          "base_uri": "https://localhost:8080/"
        },
        "id": "S3431OTkmx7f",
        "outputId": "bee57e59-ae2f-4a3b-c8bf-13181fddc71d"
      },
      "execution_count": 14,
      "outputs": [
        {
          "output_type": "stream",
          "name": "stdout",
          "text": [
            "・Aさん:0\n",
            "・Bさん:0\n",
            "じゃんけんぽん\n",
            "Aさん：チョキ\n",
            "Bさん：グー\n",
            "Bさんが3歩進む\n",
            "・Aさん:0\n",
            "・Bさん:3\n",
            "じゃんけんぽん\n",
            "Aさん：チョキ\n",
            "Bさん：グー\n",
            "Bさんが3歩進む\n",
            "・Aさん:0\n",
            "・Bさん:6\n",
            "じゃんけんぽん\n",
            "Aさん：パー\n",
            "Bさん：チョキ\n",
            "Bさんが6歩進む\n",
            "・Aさん:0\n",
            "・Bさん:12\n",
            "じゃんけんぽん\n",
            "Aさん：グー\n",
            "Bさん：チョキ\n",
            "Aさんが3歩進む\n",
            "・Aさん:3\n",
            "・Bさん:12\n",
            "じゃんけんぽん\n",
            "Aさん：チョキ\n",
            "Bさん：チョキ\n",
            "あいこ\n",
            "・Aさん:3\n",
            "・Bさん:12\n",
            "じゃんけんぽん\n",
            "Aさん：グー\n",
            "Bさん：チョキ\n",
            "Aさんが3歩進む\n",
            "・Aさん:6\n",
            "・Bさん:12\n",
            "じゃんけんぽん\n",
            "Aさん：グー\n",
            "Bさん：グー\n",
            "あいこ\n",
            "・Aさん:6\n",
            "・Bさん:12\n",
            "じゃんけんぽん\n",
            "Aさん：パー\n",
            "Bさん：パー\n",
            "あいこ\n",
            "・Aさん:6\n",
            "・Bさん:12\n",
            "じゃんけんぽん\n",
            "Aさん：チョキ\n",
            "Bさん：パー\n",
            "Aさんが6歩進む\n",
            "・Aさん:12\n",
            "・Bさん:12\n",
            "じゃんけんぽん\n",
            "Aさん：パー\n",
            "Bさん：チョキ\n",
            "Bさんが6歩進む\n",
            "・Aさん:12\n",
            "・Bさん:18\n",
            "じゃんけんぽん\n",
            "Aさん：グー\n",
            "Bさん：チョキ\n",
            "Aさんが3歩進む\n",
            "・Aさん:15\n",
            "・Bさん:18\n",
            "じゃんけんぽん\n",
            "Aさん：パー\n",
            "Bさん：チョキ\n",
            "Bさんが6歩進む\n",
            "Bさんの勝ち\n"
          ]
        }
      ]
    },
    {
      "cell_type": "markdown",
      "source": [
        "#三人で対決する場合\n",
        "AさんBさんCさんの3人で対決する場合を考える\n",
        "\n",
        "次のことに注目するとプログラムをスッキリさせることができる\n",
        "*   勝った人全員が移動する\n",
        "*   2人が同じ手を出したときは、別の1人が独り勝ちするか2人が勝つかのどちらかである\n",
        "\n",
        "\n",
        "\n"
      ],
      "metadata": {
        "id": "Ew9K4D74xyq5"
      }
    },
    {
      "cell_type": "code",
      "source": [
        "A=0 \n",
        "B=0 \n",
        "C=0\n",
        "while A<20 and B<20 and C<20:\n",
        "  print('・Aさん:'+str(A)) \n",
        "  print('・Bさん:'+str(B))\n",
        "  print('・Cさん:'+str(C))\n",
        "  print('じゃんけんぽん')\n",
        "  a=np.random.randint(0,3)\n",
        "  b=np.random.randint(0,3)\n",
        "  c=np.random.randint(0,3)\n",
        "  if b==c and (a-b==1 or b-a==2):    #BさんとCさんが同じ手を出してAさんが独り勝ちするとき\n",
        "    print('Aさん:'+data['出し方'][a])\n",
        "    print('Bさん:'+data['出し方'][b])\n",
        "    print('Cさん:'+data['出し方'][c])\n",
        "    print('Aさんが'+str(data['歩数'][a])+'歩進む')\n",
        "    A+=int(data['歩数'][a])\n",
        "  elif a==b and (a-c==1 or c-a==2):\n",
        "    print('Aさん:'+data['出し方'][a])\n",
        "    print('Bさん:'+data['出し方'][b])\n",
        "    print('Cさん:'+data['出し方'][c])\n",
        "    print('AさんとBさんが'+str(data['歩数'][a])+'歩進む')\n",
        "    A+=int(data['歩数'][a])\n",
        "    B+=int(data['歩数'][a])\n",
        "  elif a==c and (b-a==2 or a-b==1):\n",
        "    print('Aさん:'+data['出し方'][a])\n",
        "    print('Bさん:'+data['出し方'][b])\n",
        "    print('Cさん:'+data['出し方'][c])\n",
        "    print('AさんとCさんが'+str(data['歩数'][a])+'歩進む')\n",
        "    A+=int(data['歩数'][a])\n",
        "    C+=int(data['歩数'][a])\n",
        "  elif a==c and (b-a==1 or a-b==2):\n",
        "    print('Aさん:'+data['出し方'][a])\n",
        "    print('Bさん:'+data['出し方'][b])\n",
        "    print('Cさん:'+data['出し方'][c])\n",
        "    print('Bさんが'+str(data['歩数'][b])+'歩進む')\n",
        "    B+=int(data['歩数'][b])\n",
        "  elif b==c and (b-a==1 or a-b==2):\n",
        "    print('Aさん:'+data['出し方'][a])\n",
        "    print('Bさん:'+data['出し方'][b])\n",
        "    print('Cさん:'+data['出し方'][c])\n",
        "    print('BさんとCさんが'+str(data['歩数'][b])+'歩進む')\n",
        "    B+=int(data['歩数'][b])\n",
        "    C+=int(data['歩数'][b])\n",
        "  elif a==b and (c-a==1 or a-c==2):\n",
        "    print('Aさん:'+data['出し方'][a])\n",
        "    print('Bさん:'+data['出し方'][b])\n",
        "    print('Cさん:'+data['出し方'][c])\n",
        "    print('Cさんが'+str(data['歩数'][c])+'歩進む')\n",
        "    C+=int(data['歩数'][c])\n",
        "  else:\n",
        "    print('Aさん:'+data['出し方'][a])\n",
        "    print('Bさん:'+data['出し方'][b])\n",
        "    print('Cさん:'+data['出し方'][c])\n",
        "    print('あいこ')\n",
        "  continue\n",
        "\n",
        "if A>=20:\n",
        "  print('Aさんの勝ち')\n",
        "elif B>=20:\n",
        "  print('Bさんの勝ち')\n",
        "elif C>=20:\n",
        "  print('Cさんの勝ち')\n",
        "    "
      ],
      "metadata": {
        "id": "8vLJ5haYyQrP",
        "colab": {
          "base_uri": "https://localhost:8080/"
        },
        "outputId": "46c86593-6cb2-4de8-e12f-076a6f0db2e7"
      },
      "execution_count": 15,
      "outputs": [
        {
          "output_type": "stream",
          "name": "stdout",
          "text": [
            "・Aさん:0\n",
            "・Bさん:0\n",
            "・Cさん:0\n",
            "じゃんけんぽん\n",
            "Aさん:パー\n",
            "Bさん:パー\n",
            "Cさん:パー\n",
            "あいこ\n",
            "・Aさん:0\n",
            "・Bさん:0\n",
            "・Cさん:0\n",
            "じゃんけんぽん\n",
            "Aさん:パー\n",
            "Bさん:グー\n",
            "Cさん:パー\n",
            "AさんとCさんが6歩進む\n",
            "・Aさん:6\n",
            "・Bさん:0\n",
            "・Cさん:6\n",
            "じゃんけんぽん\n",
            "Aさん:パー\n",
            "Bさん:パー\n",
            "Cさん:チョキ\n",
            "Cさんが6歩進む\n",
            "・Aさん:6\n",
            "・Bさん:0\n",
            "・Cさん:12\n",
            "じゃんけんぽん\n",
            "Aさん:グー\n",
            "Bさん:パー\n",
            "Cさん:グー\n",
            "Bさんが6歩進む\n",
            "・Aさん:6\n",
            "・Bさん:6\n",
            "・Cさん:12\n",
            "じゃんけんぽん\n",
            "Aさん:グー\n",
            "Bさん:パー\n",
            "Cさん:グー\n",
            "Bさんが6歩進む\n",
            "・Aさん:6\n",
            "・Bさん:12\n",
            "・Cさん:12\n",
            "じゃんけんぽん\n",
            "Aさん:グー\n",
            "Bさん:パー\n",
            "Cさん:パー\n",
            "BさんとCさんが6歩進む\n",
            "・Aさん:6\n",
            "・Bさん:18\n",
            "・Cさん:18\n",
            "じゃんけんぽん\n",
            "Aさん:チョキ\n",
            "Bさん:パー\n",
            "Cさん:パー\n",
            "Aさんが6歩進む\n",
            "・Aさん:12\n",
            "・Bさん:18\n",
            "・Cさん:18\n",
            "じゃんけんぽん\n",
            "Aさん:グー\n",
            "Bさん:チョキ\n",
            "Cさん:グー\n",
            "AさんとCさんが3歩進む\n",
            "Cさんの勝ち\n"
          ]
        }
      ]
    }
  ]
}