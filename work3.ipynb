{
  "nbformat": 4,
  "nbformat_minor": 0,
  "metadata": {
    "colab": {
      "provenance": [],
      "authorship_tag": "ABX9TyOl40Rml4BEhAKrXq+SXn5N",
      "include_colab_link": true
    },
    "kernelspec": {
      "name": "python3",
      "display_name": "Python 3"
    },
    "language_info": {
      "name": "python"
    }
  },
  "cells": [
    {
      "cell_type": "markdown",
      "metadata": {
        "id": "view-in-github",
        "colab_type": "text"
      },
      "source": [
        "<a href=\"https://colab.research.google.com/github/moomoka/Prog2kakushin/blob/main/work3.ipynb\" target=\"_parent\"><img src=\"https://colab.research.google.com/assets/colab-badge.svg\" alt=\"Open In Colab\"/></a>"
      ]
    },
    {
      "cell_type": "markdown",
      "source": [
        "Opencvの図形を描く関数を用いて、クリスマスツリーを描画する"
      ],
      "metadata": {
        "id": "CR4VsP8l7XZS"
      }
    },
    {
      "cell_type": "markdown",
      "source": [
        "# 図形の描画\n",
        "　OpenCVには図形を描く関数がある。\n",
        "今回は、長方形と三角形を用いてクリスマスツリーを描画したい。\n",
        "\n"
      ],
      "metadata": {
        "id": "dgyBZvvEbDPr"
      }
    },
    {
      "cell_type": "markdown",
      "source": [
        "木の葉→幹→星→オーナメント→モール　の順番で描画していく"
      ],
      "metadata": {
        "id": "Dc0BqKBu5kS0"
      }
    },
    {
      "cell_type": "markdown",
      "source": [
        "参考資料：\n",
        "\n",
        "https://biotech-lab.org/articles/1251#i-2\n",
        "https://note.nkmk.me/python-opencv-draw-function/"
      ],
      "metadata": {
        "id": "1mditHcFjKPU"
      }
    },
    {
      "cell_type": "markdown",
      "source": [
        "# 内部が塗りつぶされた多角形の描画\n",
        "cv2.fillConvexPoly(img,pts,color)\n",
        "\n",
        "pts : 頂点の座標\n",
        "\n",
        "color : (B,G,R) それぞれ0か255のいずれか"
      ],
      "metadata": {
        "id": "ffMs59B6hTkd"
      }
    },
    {
      "cell_type": "markdown",
      "source": [
        "まず、クリスマスツリーの葉の部分を描いてみる"
      ],
      "metadata": {
        "id": "AzvRTYxjSaJk"
      }
    },
    {
      "cell_type": "code",
      "execution_count": 31,
      "metadata": {
        "id": "rBa5_BXY0B1v",
        "colab": {
          "base_uri": "https://localhost:8080/",
          "height": 317
        },
        "outputId": "c87d0f05-806f-4215-c9c6-75b12cee6deb"
      },
      "outputs": [
        {
          "output_type": "display_data",
          "data": {
            "text/plain": [
              "<PIL.Image.Image image mode=RGB size=400x300 at 0x7F64E0C8FDF0>"
            ],
            "image/png": "[encoded data removed]"
          },
          "metadata": {}
        }
      ],
      "source": [
        "import numpy as np\n",
        "import cv2\n",
        "import sys\n",
        "from google.colab.patches import cv2_imshow\n",
        "\n",
        "img=np.zeros((300,400,3),np.uint8)\n",
        "points=np.array([(50,100),(150,100),(100,50)])\n",
        "cv2.fillConvexPoly(img,points,color=(0,255,0))\n",
        "cv2_imshow(img)"
      ]
    },
    {
      "cell_type": "markdown",
      "source": [
        "このように上のコードを入力すると一つの三角形が描画される"
      ],
      "metadata": {
        "id": "RpSJCazGSunm"
      }
    },
    {
      "cell_type": "markdown",
      "source": [
        "三角形を三つ描いてツリーの葉の部分を描く"
      ],
      "metadata": {
        "id": "ggPfXcdYShTy"
      }
    },
    {
      "cell_type": "code",
      "source": [
        "img=np.zeros((300,400,3),np.uint8)\n",
        "points1=np.array([(150,100),(250,100),(200,60)]) #頂点のy座標を5：3の割合にする\n",
        "points2=np.array([(125,150),(275,150),(200,90)]) #頂点のx座標は25ずつ変化させる\n",
        "points3=np.array([(100,200),(300,200),(200,120)])\n",
        "cv2.fillConvexPoly(img,points1,color=(0,255,0))\n",
        "cv2.fillConvexPoly(img,points2,color=(0,255,0))\n",
        "cv2.fillConvexPoly(img,points3,color=(0,255,0))\n",
        "cv2_imshow(img)\n"
      ],
      "metadata": {
        "colab": {
          "base_uri": "https://localhost:8080/",
          "height": 317
        },
        "id": "jXoao8JeWr4V",
        "outputId": "d5afb981-2140-4f48-ab4b-64678acc5658"
      },
      "execution_count": 116,
      "outputs": [
        {
          "output_type": "display_data",
          "data": {
            "text/plain": [
              "<PIL.Image.Image image mode=RGB size=400x300 at 0x7F64E931FD60>"
            ],
            "image/png": "[encoded data removed]"
          },
          "metadata": {}
        }
      ]
    },
    {
      "cell_type": "markdown",
      "source": [
        "次に、クリスマスツリーの木の部分を描画する\n",
        "\n",
        "茶色は使うことができないため、今回は白色を用いる"
      ],
      "metadata": {
        "id": "ZcsDJdB7nP7S"
      }
    },
    {
      "cell_type": "markdown",
      "source": [
        "# 長方形の描画\n",
        "\n",
        "cv2.rectangle(img,(x1,y1),(x2,y2),color,thickness=-1)\n",
        "\n",
        "(x1,y1):左上座標\n",
        "\n",
        "(x2,y2):右下座標\n",
        "\n",
        "thickness=-1 : 塗りつぶし\n"
      ],
      "metadata": {
        "id": "gLUupxJFoDhL"
      }
    },
    {
      "cell_type": "code",
      "source": [
        "img=np.zeros((300,400,3),np.uint8)\n",
        "# points=np.array([(150,200),(200,300)])\n",
        "cv2.rectangle(img,(175,200),(225,300),color=(255,255,255),thickness=-1)\n",
        "cv2_imshow(img)"
      ],
      "metadata": {
        "colab": {
          "base_uri": "https://localhost:8080/",
          "height": 317
        },
        "id": "s8ZTCpDhn0l3",
        "outputId": "5ecf7da6-f310-4d55-fc3e-dc70ba5ce8fb"
      },
      "execution_count": 37,
      "outputs": [
        {
          "output_type": "display_data",
          "data": {
            "text/plain": [
              "<PIL.Image.Image image mode=RGB size=400x300 at 0x7F64E0CF5760>"
            ],
            "image/png": "[encoded data removed]"
          },
          "metadata": {}
        }
      ]
    },
    {
      "cell_type": "markdown",
      "source": [
        "葉と木の部分を合わせてみる"
      ],
      "metadata": {
        "id": "f-KS6_mPqRf6"
      }
    },
    {
      "cell_type": "code",
      "source": [
        "import numpy as np\n",
        "import cv2\n",
        "import sys\n",
        "from google.colab.patches import cv2_imshow\n",
        "\n",
        "img=np.zeros((300,400,3),np.uint8)\n",
        "points1=np.array([(150,100),(250,100),(200,60)]) #頂点のy座標を5：3の割合にする\n",
        "points2=np.array([(125,150),(275,150),(200,90)]) #頂点のx座標は25ずつ変化させる\n",
        "points3=np.array([(100,200),(300,200),(200,120)])\n",
        "cv2.fillConvexPoly(img,points1,color=(0,255,0))\n",
        "cv2.fillConvexPoly(img,points2,color=(0,255,0))\n",
        "cv2.fillConvexPoly(img,points3,color=(0,255,0))\n",
        "cv2.rectangle(img,(175,200),(225,270),color=(255,255,255),thickness=-1)\n",
        "cv2_imshow(img)\n"
      ],
      "metadata": {
        "colab": {
          "base_uri": "https://localhost:8080/",
          "height": 317
        },
        "id": "w0hLurjkqZr9",
        "outputId": "6a78f2e4-3568-4a1c-f5d0-2de675143bb8"
      },
      "execution_count": 117,
      "outputs": [
        {
          "output_type": "display_data",
          "data": {
            "text/plain": [
              "<PIL.Image.Image image mode=RGB size=400x300 at 0x7F64E0CF5940>"
            ],
            "image/png": "[encoded data removed]"
          },
          "metadata": {}
        }
      ]
    },
    {
      "cell_type": "markdown",
      "source": [
        "次に、ツリーの頂点につける星を三角形を3つ重ね合わせて描画する"
      ],
      "metadata": {
        "id": "ylb5KKm6qssQ"
      }
    },
    {
      "cell_type": "code",
      "source": [
        "img=np.zeros((300,400,3),np.uint8)\n",
        "point=np.array([(95,250),(200,100),(200,200)])\n",
        "point1=np.array([(95,150),(305,150),(200,200)]) #二等辺三角形を描く\n",
        "point2=np.array([(305,250),(200,100),(200,200)])\n",
        "cv2.fillConvexPoly(img,point,color=(0,255,255))\n",
        "cv2.fillConvexPoly(img,point1,color=(0,255,255))\n",
        "cv2.fillConvexPoly(img,point2,color=(0,255,255))\n",
        "cv2_imshow(img)"
      ],
      "metadata": {
        "colab": {
          "base_uri": "https://localhost:8080/",
          "height": 317
        },
        "id": "yxspgooE0iTM",
        "outputId": "bb3eac1b-80e2-4174-f221-d7883f29af8e"
      },
      "execution_count": 118,
      "outputs": [
        {
          "output_type": "display_data",
          "data": {
            "text/plain": [
              "<PIL.Image.Image image mode=RGB size=400x300 at 0x7F64E0F4ECA0>"
            ],
            "image/png": "[encoded data removed]"
          },
          "metadata": {}
        }
      ]
    },
    {
      "cell_type": "markdown",
      "source": [
        "このようにして、星を描画し、木と星を合わせてみると以下のようになる。"
      ],
      "metadata": {
        "id": "z2CHW2Ig101g"
      }
    },
    {
      "cell_type": "code",
      "source": [
        "img=np.zeros((300,400,3),np.uint8)\n",
        "point=np.array([(175,75),(200,30),(200,60)])\n",
        "point1=np.array([(170,45),(230,45),(200,60)]) \n",
        "point2=np.array([(225,75),(200,30),(200,60)])\n",
        "points1=np.array([(150,100),(250,100),(200,60)])\n",
        "points2=np.array([(125,150),(275,150),(200,90)]) \n",
        "points3=np.array([(100,200),(300,200),(200,120)])\n",
        "cv2.fillConvexPoly(img,points1,color=(0,255,0))\n",
        "cv2.fillConvexPoly(img,points2,color=(0,255,0))\n",
        "cv2.fillConvexPoly(img,points3,color=(0,255,0))\n",
        "cv2.fillConvexPoly(img,point,color=(0,255,255))\n",
        "cv2.fillConvexPoly(img,point1,color=(0,255,255))\n",
        "cv2.fillConvexPoly(img,point2,color=(0,255,255))\n",
        "cv2.rectangle(img,(175,200),(225,270),color=(255,255,255),thickness=-1)\n",
        "cv2_imshow(img)"
      ],
      "metadata": {
        "colab": {
          "base_uri": "https://localhost:8080/",
          "height": 317
        },
        "id": "RKBUJij3rNVr",
        "outputId": "fcd1d426-06c4-40d9-a856-d6f99baf38bb"
      },
      "execution_count": 119,
      "outputs": [
        {
          "output_type": "display_data",
          "data": {
            "text/plain": [
              "<PIL.Image.Image image mode=RGB size=400x300 at 0x7F64E0CF5EE0>"
            ],
            "image/png": "[encoded data removed]"
          },
          "metadata": {}
        }
      ]
    },
    {
      "cell_type": "markdown",
      "source": [
        "次にオーナメントで飾り付けをする。"
      ],
      "metadata": {
        "id": "QzaAZbNvxhv9"
      }
    },
    {
      "cell_type": "markdown",
      "source": [
        "# 円の描画\n",
        "\n",
        "cv2.circle(img,(x,y),r,color,,thickness=-1)\n",
        "\n",
        "(x,y): 円の中心\n",
        "\n",
        "r : 円の半径"
      ],
      "metadata": {
        "id": "uUbziH8MzYzF"
      }
    },
    {
      "cell_type": "code",
      "source": [
        "img=np.zeros((300,400,3),np.uint8)\n",
        "cv2.circle(img,(150,150),50,color=(0,255,0),thickness=-1)\n",
        "cv2_imshow(img)"
      ],
      "metadata": {
        "colab": {
          "base_uri": "https://localhost:8080/",
          "height": 317
        },
        "id": "T6WqtkiB0Fzl",
        "outputId": "ffea6724-09fb-4f76-f2d3-c405fd36c84f"
      },
      "execution_count": 120,
      "outputs": [
        {
          "output_type": "display_data",
          "data": {
            "text/plain": [
              "<PIL.Image.Image image mode=RGB size=400x300 at 0x7F64E0CF5250>"
            ],
            "image/png": "[encoded data removed]"
          },
          "metadata": {}
        }
      ]
    },
    {
      "cell_type": "markdown",
      "source": [
        "オーナメント（赤丸）を葉の先に描画する。"
      ],
      "metadata": {
        "id": "JueCRdGu2UIM"
      }
    },
    {
      "cell_type": "code",
      "source": [
        "\n",
        "img=np.zeros((300,400,3),np.uint8)\n",
        "point=np.array([(175,75),(200,30),(200,60)])\n",
        "point1=np.array([(170,45),(230,45),(200,60)])\n",
        "point2=np.array([(225,75),(200,30),(200,60)])\n",
        "points1=np.array([(150,100),(250,100),(200,60)])\n",
        "points2=np.array([(125,150),(275,150),(200,90)]) \n",
        "points3=np.array([(100,200),(300,200),(200,120)])\n",
        "cv2.fillConvexPoly(img,points1,color=(0,255,0))\n",
        "cv2.fillConvexPoly(img,points2,color=(0,255,0))\n",
        "cv2.fillConvexPoly(img,points3,color=(0,255,0))\n",
        "cv2.fillConvexPoly(img,point,color=(0,255,255))\n",
        "cv2.fillConvexPoly(img,point1,color=(0,255,255))\n",
        "cv2.fillConvexPoly(img,point2,color=(0,255,255))\n",
        "cv2.rectangle(img,(175,200),(225,270),color=(255,255,255),thickness=-1)\n",
        "for i in range(3):\n",
        "  cv2.circle(img,(100+i*25,200-i*50),5,color=(0,0,255),thickness=-1)\n",
        "for i in range(3):\n",
        "  cv2.circle(img,(250+i*25,100+i*50),5,color=(0,0,255),thickness=-1)\n",
        "\n",
        "cv2_imshow(img)"
      ],
      "metadata": {
        "colab": {
          "base_uri": "https://localhost:8080/",
          "height": 317
        },
        "id": "6C2Y7opT2aru",
        "outputId": "bfd1afa7-c39e-45b8-9743-bf5e7494edbe"
      },
      "execution_count": 121,
      "outputs": [
        {
          "output_type": "display_data",
          "data": {
            "text/plain": [
              "<PIL.Image.Image image mode=RGB size=400x300 at 0x7F64E0C102B0>"
            ],
            "image/png": "[encoded data removed]"
          },
          "metadata": {}
        }
      ]
    },
    {
      "cell_type": "markdown",
      "source": [
        "# 線分の描画\n",
        "\n",
        "最後に、モール部分を描画していく。\n",
        "\n",
        "cv2.line(img,(x1,y1),(x2,y2),color,thickness)\n",
        "\n",
        "(x1,y1):開始位置\n",
        "\n",
        "(x2,y2) :終了位置\n",
        "\n",
        "thickness :　線の太さ"
      ],
      "metadata": {
        "id": "Gy_gVJpf6TBq"
      }
    },
    {
      "cell_type": "code",
      "source": [
        "img=np.zeros((300,400,3),np.uint8)\n",
        "cv2.line(img,(100,50),(300,90),color=(0,255,255),thickness=5)\n",
        "cv2_imshow(img)\n"
      ],
      "metadata": {
        "colab": {
          "base_uri": "https://localhost:8080/",
          "height": 317
        },
        "id": "Qc3xTM2w79-g",
        "outputId": "0b3d2fa9-f659-4b2c-9ba9-097ef4ee1c0a"
      },
      "execution_count": 68,
      "outputs": [
        {
          "output_type": "display_data",
          "data": {
            "text/plain": [
              "<PIL.Image.Image image mode=RGB size=400x300 at 0x7F64E0CF5A00>"
            ],
            "image/png": "[encoded data removed]"
          },
          "metadata": {}
        }
      ]
    },
    {
      "cell_type": "code",
      "source": [
        "img=np.zeros((300,400,3),np.uint8)\n",
        "point=np.array([(175,75),(200,30),(200,60)])\n",
        "point1=np.array([(170,45),(230,45),(200,60)]) \n",
        "point2=np.array([(225,75),(200,30),(200,60)])\n",
        "points1=np.array([(150,100),(250,100),(200,60)])\n",
        "points2=np.array([(125,150),(275,150),(200,90)]) \n",
        "points3=np.array([(100,200),(300,200),(200,120)])\n",
        "cv2.fillConvexPoly(img,points1,color=(0,255,0))\n",
        "cv2.fillConvexPoly(img,points2,color=(0,255,0))\n",
        "cv2.fillConvexPoly(img,points3,color=(0,255,0))\n",
        "cv2.fillConvexPoly(img,point,color=(0,255,255))\n",
        "cv2.fillConvexPoly(img,point1,color=(0,255,255))\n",
        "cv2.fillConvexPoly(img,point2,color=(0,255,255))\n",
        "cv2.rectangle(img,(175,200),(225,270),color=(255,255,255),thickness=-1)\n",
        "for i in range(3):\n",
        "  cv2.circle(img,(100+i*25,200-i*50),5,color=(0,0,255),thickness=-1)\n",
        "for i in range(3):\n",
        "  cv2.circle(img,(250+i*25,100+i*50),5,color=(0,0,255),thickness=-1)\n",
        "cv2.line(img,(175,80),(219,100),color=(0,255,255),thickness=3)\n",
        "cv2.line(img,(160,120),(240,154),color=(0,255,255),thickness=3)\n",
        "cv2.line(img,(155,154),(260,200),color=(0,255,255),thickness=3)\n",
        "\n",
        "cv2_imshow(img)"
      ],
      "metadata": {
        "colab": {
          "base_uri": "https://localhost:8080/",
          "height": 317
        },
        "id": "ir0xjz8H8ps-",
        "outputId": "c5469978-1764-4793-9754-010c3557d2b6"
      },
      "execution_count": 124,
      "outputs": [
        {
          "output_type": "display_data",
          "data": {
            "text/plain": [
              "<PIL.Image.Image image mode=RGB size=400x300 at 0x7F64E0F4E1C0>"
            ],
            "image/png": "[encoded data removed]"
          },
          "metadata": {}
        }
      ]
    }
  ]
}